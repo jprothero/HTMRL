{
 "cells": [
  {
   "cell_type": "code",
   "execution_count": 1,
   "metadata": {},
   "outputs": [],
   "source": [
    "# So what is the first thing we need?\n",
    "# I would say iterating is important"
   ]
  },
  {
   "cell_type": "code",
   "execution_count": 2,
   "metadata": {},
   "outputs": [],
   "source": [
    "# If we have sparse arrays can we skip the non active ones?\n",
    "# In theory on every step we will take in a bunch of inputs, and \n",
    "# that will determine whether we fire or not\n",
    "# So for example we have a bunch of connections between the input \n",
    "#and the output"
   ]
  },
  {
   "cell_type": "code",
   "execution_count": 3,
   "metadata": {},
   "outputs": [
    {
     "name": "stdout",
     "output_type": "stream",
     "text": [
      "1\n",
      "2\n",
      "3\n"
     ]
    }
   ],
   "source": [
    "for letter in [1, 2, 3]\n",
    "    println(letter)\n",
    "end"
   ]
  },
  {
   "cell_type": "code",
   "execution_count": 4,
   "metadata": {},
   "outputs": [
    {
     "data": {
      "text/plain": [
       "Dict{Any,Any} with 0 entries"
      ]
     },
     "execution_count": 4,
     "metadata": {},
     "output_type": "execute_result"
    }
   ],
   "source": [
    "symbolDict = Dict()"
   ]
  },
  {
   "cell_type": "code",
   "execution_count": 5,
   "metadata": {},
   "outputs": [
    {
     "data": {
      "text/plain": [
       "randomBitArray (generic function with 1 method)"
      ]
     },
     "execution_count": 5,
     "metadata": {},
     "output_type": "execute_result"
    }
   ],
   "source": [
    "using Random\n",
    "    function randomBitArray(numDims)\n",
    "        return bitrand(numDims)\n",
    "    end"
   ]
  },
  {
   "cell_type": "code",
   "execution_count": 6,
   "metadata": {},
   "outputs": [
    {
     "data": {
      "text/plain": [
       "10000"
      ]
     },
     "execution_count": 6,
     "metadata": {},
     "output_type": "execute_result"
    }
   ],
   "source": [
    "symbolDims = 10000"
   ]
  },
  {
   "cell_type": "code",
   "execution_count": 7,
   "metadata": {},
   "outputs": [],
   "source": [
    "for symbol in \"0123456789+<done>\"\n",
    "    symbolDict[symbol] = randomBitArray(symbolDims)\n",
    "end"
   ]
  },
  {
   "cell_type": "code",
   "execution_count": 8,
   "metadata": {},
   "outputs": [
    {
     "data": {
      "text/plain": [
       "\"2 + 2\""
      ]
     },
     "execution_count": 8,
     "metadata": {},
     "output_type": "execute_result"
    }
   ],
   "source": [
    "input = \"2 + 2\""
   ]
  },
  {
   "cell_type": "code",
   "execution_count": 9,
   "metadata": {},
   "outputs": [
    {
     "data": {
      "text/plain": [
       "preprocessSequence (generic function with 1 method)"
      ]
     },
     "execution_count": 9,
     "metadata": {},
     "output_type": "execute_result"
    }
   ],
   "source": [
    "function preprocessSequence(sequence)\n",
    "    sequence = lowercase(sequence)\n",
    "    sequence = replace(sequence, \" \" => \"\")\n",
    "    return [symbolDict[symbol] for symbol in sequence]\n",
    "end"
   ]
  },
  {
   "cell_type": "code",
   "execution_count": 10,
   "metadata": {},
   "outputs": [
    {
     "data": {
      "text/plain": [
       "3-element Array{BitArray{1},1}:\n",
       " [false, false, true, true, false, true, false, true, false, true  …  true, false, false, false, true, false, true, false, true, false]   \n",
       " [false, false, false, true, false, false, false, true, false, false  …  true, false, true, false, false, true, false, false, true, false]\n",
       " [false, false, true, true, false, true, false, true, false, true  …  true, false, false, false, true, false, true, false, true, false]   "
      ]
     },
     "execution_count": 10,
     "metadata": {},
     "output_type": "execute_result"
    }
   ],
   "source": [
    "preprocessedInput = preprocessSequence(input)"
   ]
  },
  {
   "cell_type": "code",
   "execution_count": 11,
   "metadata": {},
   "outputs": [],
   "source": [
    "# Lets try to model one step of the algorithm\n",
    "# So at first we start with the input connecting to a set of neurons randomly,\n",
    "#with a set amount of sparsity"
   ]
  },
  {
   "cell_type": "code",
   "execution_count": 12,
   "metadata": {},
   "outputs": [
    {
     "data": {
      "text/plain": [
       "10000-element BitArray{1}:\n",
       " false\n",
       "  true\n",
       " false\n",
       " false\n",
       "  true\n",
       "  true\n",
       "  true\n",
       "  true\n",
       " false\n",
       " false\n",
       "  true\n",
       "  true\n",
       "  true\n",
       "     ⋮\n",
       "  true\n",
       " false\n",
       " false\n",
       " false\n",
       "  true\n",
       " false\n",
       " false\n",
       " false\n",
       "  true\n",
       " false\n",
       " false\n",
       "  true"
      ]
     },
     "execution_count": 12,
     "metadata": {},
     "output_type": "execute_result"
    }
   ],
   "source": [
    "layerOne = randomBitArray(symbolDims)"
   ]
  },
  {
   "cell_type": "code",
   "execution_count": 13,
   "metadata": {},
   "outputs": [],
   "source": [
    "# So we want the system to have minimal assumptions and be able to \n",
    "# Create it's own learning algorithm. So we just give it the framework\n",
    "# And let it optimize\n",
    "\n",
    "#Basically we loop through each of the activebits, we see what \n",
    "#those are connected to, i.e. what are the connections for that neuron\n",
    "#and then we add one to each of those accumulators,"
   ]
  },
  {
   "cell_type": "code",
   "execution_count": 14,
   "metadata": {},
   "outputs": [],
   "source": [
    "# So what is a set of neurons. Basically a neuron can have some maximum number of neighbors / max connections. \n",
    "#So maybe creating a neuron object that has some convenience functions might be good.\n",
    "#Although emphasizing simplicity and efficiency is good"
   ]
  },
  {
   "cell_type": "code",
   "execution_count": 15,
   "metadata": {},
   "outputs": [],
   "source": [
    "#So for exmaple for some input we would have some random initial connections from the input to the first layer.\n",
    "#Ideally though we want to have the system grow and adjust as needed. Giving it a headstart couldn't hurt though.\n",
    "#Maybe we can define an algorithm for growing connections and do that over time. Also we can set a prior where we only\n",
    "#Allow a certain number of local connections, so the network is required to grow into separate regions"
   ]
  },
  {
   "cell_type": "code",
   "execution_count": 16,
   "metadata": {},
   "outputs": [],
   "source": [
    "# So anyways we have a set of initial connections between the input and the layer, or we need an algorithm to grow \n",
    "#them. \n",
    "# If we are using random connections we will have (?homeomorphisms?) or isomorphic idk"
   ]
  },
  {
   "cell_type": "code",
   "execution_count": 17,
   "metadata": {},
   "outputs": [],
   "source": [
    "#So basically a neuron has a set of inputs and a set of outputs, we can maybe specify the influence as a function of distance?\n",
    "#or we can specify if it is context vs driving input and give weights accordingly"
   ]
  },
  {
   "cell_type": "code",
   "execution_count": 18,
   "metadata": {},
   "outputs": [],
   "source": [
    "#Well we have to define what a neuron is.\n",
    "#Even if we can't do OOP we can define the functions that make up to it"
   ]
  },
  {
   "cell_type": "code",
   "execution_count": 19,
   "metadata": {},
   "outputs": [],
   "source": [
    "# So we look through the active bits in one layer\n",
    "# then we see for those indices what connection it has\n",
    "# So we need to keep track of the required dimensionality for each\n",
    "# Of the inputs... Then again we could imagine a synapse dying in \n",
    "#the middle of a vector and we need to gracefully handle it\n",
    "#When something is removed and is no longer referenced maybe \n",
    "#we can delete it."
   ]
  },
  {
   "cell_type": "code",
   "execution_count": 20,
   "metadata": {},
   "outputs": [],
   "source": [
    "# So basically for each neuron we will have a list of where it is\n",
    "# connected to.\n",
    "\n",
    "#These are somewhat like the connectivity weights"
   ]
  },
  {
   "cell_type": "code",
   "execution_count": 21,
   "metadata": {},
   "outputs": [],
   "source": [
    "#We want to remain a certain level of sparse connectivity\n",
    "#For example it seems like there is about 2% sparsity for the brain\n",
    "#So if we have  2000 neurons, only 40 should be active at a time\n",
    "#But what about the connections between them\n",
    "#Again we dont want fully connected, we want it to start random and \n",
    "#be able to refine itself."
   ]
  },
  {
   "cell_type": "code",
   "execution_count": 41,
   "metadata": {},
   "outputs": [
    {
     "name": "stdout",
     "output_type": "stream",
     "text": [
      "falsetruefalsefalsetruetruetruetruefalsefalse"
     ]
    }
   ],
   "source": [
    "for neuron in layerOne[1:10]\n",
    "    print(neuron)\n",
    "end"
   ]
  },
  {
   "cell_type": "code",
   "execution_count": null,
   "metadata": {},
   "outputs": [],
   "source": [
    "# So we need a hebbian learning rule where if one is active we\n",
    "# Reinforce the connection. Maybe when a signal continues, i.e.\n",
    "# When it receives feedback input and long range dendritic context\n",
    "# That prompts it to reactivate and also so back to what activated it\n",
    "# So basically we have a feedback loop where things that activate\n",
    "# together are reinforced"
   ]
  },
  {
   "cell_type": "code",
   "execution_count": null,
   "metadata": {},
   "outputs": [],
   "source": [
    "#The issue is just that I'm not sure how to do this...\n",
    "#It's a hard problem.\n",
    "#But idk basically we need the framework and then to try stuff out\n",
    "#Maybe we can somehow evolve the learning rules\n",
    "#We want it to be efficient and reasonable, then have the algorithm\n",
    "#fill in the details"
   ]
  },
  {
   "cell_type": "code",
   "execution_count": null,
   "metadata": {},
   "outputs": [],
   "source": [
    "#What are the different components\n",
    "\n",
    "#Long range connections\n",
    "#Feed forward connections\n",
    "#Contextual connections\n",
    "\n",
    "#Everything should be transferred through there\n",
    "#We should allow the system to tweak how each behaves"
   ]
  },
  {
   "cell_type": "code",
   "execution_count": null,
   "metadata": {},
   "outputs": [],
   "source": [
    "#So lets say we have some different constraints\n",
    "\n",
    "#The cortex is a series of layers that specialize, and then those\n",
    "#Modules work together while staying relatively stable\n",
    "#It still happens on the neuronal level, where messages are sent\n",
    "#Giving the predicted presence of something"
   ]
  },
  {
   "cell_type": "code",
   "execution_count": null,
   "metadata": {},
   "outputs": [],
   "source": [
    "#So we can set some constraints on the system, and try to have it\n",
    "#work between those.\n",
    "\n",
    "#For example lay out the framework for the cortical circuitry and \n",
    "#then it will hopefully be able to fill in the details"
   ]
  },
  {
   "cell_type": "code",
   "execution_count": null,
   "metadata": {},
   "outputs": [],
   "source": [
    "#So basically there are a bunch of local connections, so for example\n",
    "#lets say that we can have 2% connection sparsity, and we want\n",
    "#2% activation sparsity"
   ]
  },
  {
   "cell_type": "code",
   "execution_count": null,
   "metadata": {},
   "outputs": [],
   "source": [
    "#That would mean that we loop through each of the neurons\n",
    "#We do some random changes (evolution style)\n",
    "#And we allow the network to tweak it\n",
    "#So for example we have continuous learning where\n",
    "#The structure can constantly change\n",
    "#So we need a good way to handle thatt"
   ]
  },
  {
   "cell_type": "code",
   "execution_count": null,
   "metadata": {},
   "outputs": [],
   "source": [
    "#Again it's basically just that we have lists, and we continually\n",
    "#add to them\n",
    "\n",
    "#So originally we would declare a set of connections between\n",
    "#the inputs and the first layer\n",
    "\n",
    "#From there we can continually adjust those and the rest of the network\n",
    "#so that they can represent the information necessary for the task"
   ]
  },
  {
   "cell_type": "code",
   "execution_count": null,
   "metadata": {},
   "outputs": [],
   "source": [
    "#So the connections can constantly be changed\n",
    "#How are they changed?\n",
    "#We need a system such that it is shaping the representation to\n",
    "#make it useful for our end goal\n",
    "\n",
    "#The end goal is the priority from the start\n",
    "#So maybe we should start with input and outputs\n",
    "\n",
    "#The input is some goal, for example given an input string\n",
    "#output the target\n",
    "\n",
    "#For example a simple one is addition\n",
    "\n",
    "#Given an input string of adding numbers, output the target string\n",
    "\n",
    "#The reward can be a function of various things, for example we\n",
    "#get -1 for each time step taken, and we also have the MSE between the\n",
    "#target and predicted as the outpput"
   ]
  },
  {
   "cell_type": "markdown",
   "metadata": {},
   "source": [
    "Maybe the simplifying assumption of a fixed dimension size \n",
    "that HTM has is worth doing. \n",
    "\n",
    "The connections can still vary a lot."
   ]
  },
  {
   "cell_type": "code",
   "execution_count": null,
   "metadata": {},
   "outputs": [],
   "source": []
  },
  {
   "cell_type": "code",
   "execution_count": null,
   "metadata": {},
   "outputs": [],
   "source": []
  },
  {
   "cell_type": "code",
   "execution_count": null,
   "metadata": {},
   "outputs": [],
   "source": []
  },
  {
   "cell_type": "code",
   "execution_count": null,
   "metadata": {},
   "outputs": [],
   "source": []
  },
  {
   "cell_type": "code",
   "execution_count": null,
   "metadata": {},
   "outputs": [],
   "source": []
  },
  {
   "cell_type": "code",
   "execution_count": null,
   "metadata": {},
   "outputs": [],
   "source": []
  },
  {
   "cell_type": "code",
   "execution_count": null,
   "metadata": {},
   "outputs": [],
   "source": []
  }
 ],
 "metadata": {
  "kernelspec": {
   "display_name": "Julia 1.0.1",
   "language": "julia",
   "name": "julia-1.0"
  },
  "language_info": {
   "file_extension": ".jl",
   "mimetype": "application/julia",
   "name": "julia",
   "version": "1.0.1"
  }
 },
 "nbformat": 4,
 "nbformat_minor": 2
}
