{
 "cells": [
  {
   "cell_type": "code",
   "execution_count": 2,
   "metadata": {},
   "outputs": [],
   "source": [
    "import csv\n",
    "import datetime\n",
    "import numpy\n",
    "import os\n",
    "import yaml\n",
    "\n",
    "from nupic.algorithms.sdr_classifier_factory import SDRClassifierFactory\n",
    "from nupic.algorithms.spatial_pooler import SpatialPooler\n",
    "from nupic.algorithms.temporal_memory import TemporalMemory\n",
    "from nupic.encoders.date import DateEncoder\n",
    "from nupic.encoders.random_distributed_scalar import \\\n",
    "  RandomDistributedScalarEncoder"
   ]
  },
  {
   "cell_type": "code",
   "execution_count": 5,
   "metadata": {},
   "outputs": [],
   "source": [
    "encodingWidth = 2048\n",
    "spParams = {\n",
    "    \n",
    "}"
   ]
  },
  {
   "cell_type": "code",
   "execution_count": 6,
   "metadata": {},
   "outputs": [
    {
     "ename": "NameError",
     "evalue": "name 'spParams' is not defined",
     "output_type": "error",
     "traceback": [
      "\u001b[0;31m---------------------------------------------------------------------------\u001b[0m",
      "\u001b[0;31mNameError\u001b[0m                                 Traceback (most recent call last)",
      "\u001b[0;32m<ipython-input-6-f76913d94c9a>\u001b[0m in \u001b[0;36m<module>\u001b[0;34m()\u001b[0m\n\u001b[1;32m      1\u001b[0m sp = SpatialPooler(\n\u001b[1;32m      2\u001b[0m     \u001b[0minputDimensions\u001b[0m\u001b[0;34m=\u001b[0m\u001b[0;34m(\u001b[0m\u001b[0mencodingWidth\u001b[0m\u001b[0;34m,\u001b[0m\u001b[0;34m)\u001b[0m\u001b[0;34m,\u001b[0m\u001b[0;34m\u001b[0m\u001b[0m\n\u001b[0;32m----> 3\u001b[0;31m     \u001b[0mcolumnDimensions\u001b[0m\u001b[0;34m=\u001b[0m\u001b[0;34m(\u001b[0m\u001b[0mspParams\u001b[0m\u001b[0;34m[\u001b[0m\u001b[0;34m\"columnCount\"\u001b[0m\u001b[0;34m]\u001b[0m\u001b[0;34m,\u001b[0m\u001b[0;34m)\u001b[0m\u001b[0;34m,\u001b[0m\u001b[0;34m\u001b[0m\u001b[0m\n\u001b[0m\u001b[1;32m      4\u001b[0m     \u001b[0mpotentialPct\u001b[0m\u001b[0;34m=\u001b[0m\u001b[0mspParams\u001b[0m\u001b[0;34m[\u001b[0m\u001b[0;34m\"potentialPct\"\u001b[0m\u001b[0;34m]\u001b[0m\u001b[0;34m,\u001b[0m\u001b[0;34m\u001b[0m\u001b[0m\n\u001b[1;32m      5\u001b[0m     \u001b[0mpotentialRadius\u001b[0m\u001b[0;34m=\u001b[0m\u001b[0mencodingWidth\u001b[0m\u001b[0;34m,\u001b[0m\u001b[0;34m\u001b[0m\u001b[0m\n",
      "\u001b[0;31mNameError\u001b[0m: name 'spParams' is not defined"
     ]
    }
   ],
   "source": [
    "sp = SpatialPooler(\n",
    "    inputDimensions=(encodingWidth,),\n",
    "    columnDimensions=(spParams[\"columnCount\"],),\n",
    "    potentialPct=spParams[\"potentialPct\"],\n",
    "    potentialRadius=encodingWidth,\n",
    "    globalInhibition=spParams[\"globalInhibition\"],\n",
    "    localAreaDensity=spParams[\"localAreaDensity\"],\n",
    "    numActiveColumnsPerInhArea=spParams[\"numActiveColumnsPerInhArea\"],\n",
    "    synPermInactiveDec=spParams[\"synPermInactiveDec\"],\n",
    "    synPermActiveInc=spParams[\"synPermActiveInc\"],\n",
    "    synPermConnected=spParams[\"synPermConnected\"],\n",
    "    boostStrength=spParams[\"boostStrength\"],\n",
    "    seed=spParams[\"seed\"],\n",
    "    wrapAround=True\n",
    "  )"
   ]
  },
  {
   "cell_type": "code",
   "execution_count": null,
   "metadata": {},
   "outputs": [],
   "source": []
  }
 ],
 "metadata": {
  "kernelspec": {
   "display_name": "Python 2",
   "language": "python",
   "name": "python2"
  },
  "language_info": {
   "codemirror_mode": {
    "name": "ipython",
    "version": 2
   },
   "file_extension": ".py",
   "mimetype": "text/x-python",
   "name": "python",
   "nbconvert_exporter": "python",
   "pygments_lexer": "ipython2",
   "version": "2.7.15"
  }
 },
 "nbformat": 4,
 "nbformat_minor": 2
}
